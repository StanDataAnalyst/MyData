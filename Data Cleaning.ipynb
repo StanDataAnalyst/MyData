{
 "cells": [
  {
   "cell_type": "markdown",
   "id": "59253a08-b99a-43ac-a852-410ca937ff82",
   "metadata": {},
   "source": [
    "### Generate Sample Dataset for Data Cleaning Project"
   ]
  },
  {
   "cell_type": "code",
   "execution_count": 20,
   "id": "af5926d8-d8b7-48ff-9de2-45997c94f9a5",
   "metadata": {},
   "outputs": [],
   "source": [
    "import pandas as pd\n",
    "import random\n",
    "import numpy as np"
   ]
  },
  {
   "cell_type": "code",
   "execution_count": 22,
   "id": "e0156581-e2f8-4416-81d8-ffeb278167de",
   "metadata": {},
   "outputs": [],
   "source": [
    "# Set random seed for reproducibility\n",
    "random.seed(42)\n",
    "np.random.seed(42)\n",
    "\n",
    "# Set parameters for number of rows\n",
    "num_records = 2000"
   ]
  },
  {
   "cell_type": "code",
   "execution_count": 24,
   "id": "6abacca8-85d3-4d74-88bf-5fc77548ce61",
   "metadata": {},
   "outputs": [],
   "source": [
    "# Helper functions\n",
    "def random_name():\n",
    "    first_names = [\"John\", \"Jane\", \"Alex\", \"Emily\", \"Chris\", \"Taylor\", \"Jordan\", \"Morgan\", \"Casey\", \"Drew\"]\n",
    "    last_names = [\"Smith\", \"Johnson\", \"Brown\", \"Williams\", \"Jones\", \"Miller\", \"Davis\", \"Garcia\", \"Martinez\", \"Hernandez\"]\n",
    "    return f\"{random.choice(first_names)} {random.choice(last_names)}\"\n",
    "\n",
    "def random_diagnosis_code():\n",
    "    return f\"{random.choice(['A', 'B', 'C', 'D'])}{random.randint(10, 99)}.{random.randint(0, 9)}\"\n",
    "\n",
    "def random_date():\n",
    "    start_date = pd.Timestamp(\"2023-01-01\")\n",
    "    end_date = pd.Timestamp(\"2024-11-01\")\n",
    "    return start_date + (end_date - start_date) * random.random()"
   ]
  },
  {
   "cell_type": "code",
   "execution_count": 26,
   "id": "813be1fe-5e29-4d55-b729-2589f1515e31",
   "metadata": {},
   "outputs": [],
   "source": [
    "# Generate dataset\n",
    "data = {\n",
    "    \"ID\": [random.randint(1000, 9999) for _ in range(num_records)],\n",
    "    \"Name\": [random_name() for _ in range(num_records)],\n",
    "    \"Age\": [random.randint(0, 120) if random.random() > 0.1 else np.nan for _ in range(num_records)],  # Some unrealistic ages\n",
    "    \"Date of Service\": [random_date() for _ in range(num_records)],\n",
    "    \"Diagnosis Code\": [random_diagnosis_code() if random.random() > 0.05 else np.nan for _ in range(num_records)],  # 5% missing\n",
    "    \"Total Cost\": [round(random.uniform(-500, 15000), 2) if random.random() > 0.02 else np.nan for _ in range(num_records)],  # Some negative costs\n",
    "    \"Gender\": [random.choice([\"Male\", \"Female\", np.nan, \"Unknown\"]) for _ in range(num_records)],  # Includes 'Unknown' and NaN\n",
    "    \"Phone\": [f\"+1-{random.randint(100, 999)}-{random.randint(100, 999)}-{random.randint(1000, 9999)}\" if random.random() > 0.1 else np.nan for _ in range(num_records)],\n",
    "    \"Email\": [f\"user{random.randint(1, 2000)}@example.com\" if random.random() > 0.05 else \"invalid_email\" for _ in range(num_records)],  # Some invalid emails\n",
    "    \"Street\": [f\"{random.randint(100, 999)} Main St\" for _ in range(num_records)],\n",
    "    \"City\": [random.choice([\"New York\", \"Los Angeles\", \"Chicago\", np.nan]) for _ in range(num_records)],  # Includes NaN\n",
    "    \"State\": [random.choice([\"NY\", \"CA\", \"IL\", \"TX\", \"FL\", \"INVALID\"]) for _ in range(num_records)],  # Includes 'INVALID'\n",
    "    \"Zip Code\": [str(random.randint(10000, 99999)) for _ in range(num_records)],\n",
    "    \"Insurance\": [random.choice([\"Yes\", \"No\", \"\"]) for _ in range(num_records)],  # Includes empty strings\n",
    "    \"Notes\": [random.choice([\"\", \"Follow-up required\", \"Check-up\", \"\"] * 5) for _ in range(num_records)]  # Includes empty strings\n",
    "}"
   ]
  },
  {
   "cell_type": "code",
   "execution_count": 28,
   "id": "9017a0a1-d1c6-42d2-90fc-53fb00ba0671",
   "metadata": {},
   "outputs": [
    {
     "name": "stdout",
     "output_type": "stream",
     "text": [
      "Sample dataset created and saved as c:\\dataset\\python\\sample_data.csv\n"
     ]
    }
   ],
   "source": [
    "# Convert to DataFrame\n",
    "mock_df = pd.DataFrame(data)\n",
    "\n",
    "# Save dataset to CSV\n",
    "file_path = \"c:\\dataset\\python\\sample_data.csv\"\n",
    "mock_df.to_csv(file_path, index=False)\n",
    "print(f\"Sample dataset created and saved as {file_path}\")"
   ]
  },
  {
   "cell_type": "code",
   "execution_count": 30,
   "id": "58855313-7dc3-4fdc-9ba3-daeaaf3bcadb",
   "metadata": {},
   "outputs": [
    {
     "name": "stdout",
     "output_type": "stream",
     "text": [
      "     ID             Name   Age     Date of Service Diagnosis Code  Total Cost  \\\n",
      "0  2824  Morgan Martinez   7.0 2023-05-05 09:03:34          A40.7    10444.03   \n",
      "1  1409     Casey Garcia  38.0 2023-02-09 12:25:53          A54.1     1638.53   \n",
      "2  5506    Alex Martinez  86.0 2023-05-03 10:17:19          A80.7     8832.91   \n",
      "3  5012     Morgan Jones  68.0 2024-05-23 15:22:05          C15.1      996.87   \n",
      "4  4657    Emily Johnson   NaN 2023-06-23 18:22:43            NaN    12439.18   \n",
      "\n",
      "  Gender            Phone                 Email       Street         City  \\\n",
      "0    NaN  +1-722-318-8145  user1251@example.com  505 Main St  Los Angeles   \n",
      "1    NaN  +1-622-477-9042   user279@example.com  799 Main St          NaN   \n",
      "2   Male  +1-980-538-4072  user1191@example.com  371 Main St  Los Angeles   \n",
      "3   Male  +1-344-667-2305   user437@example.com  522 Main St      Chicago   \n",
      "4    NaN              NaN  user1824@example.com  867 Main St     New York   \n",
      "\n",
      "  State Zip Code Insurance               Notes  \n",
      "0    TX    87160        No  Follow-up required  \n",
      "1    CA    73625                      Check-up  \n",
      "2    TX    85461            Follow-up required  \n",
      "3    NY    88539        No  Follow-up required  \n",
      "4    TX    29556        No                      \n"
     ]
    }
   ],
   "source": [
    "print(mock_df.head())"
   ]
  },
  {
   "cell_type": "code",
   "execution_count": null,
   "id": "8c512e48-5f4f-4923-a9b8-6fd6fc7fac1a",
   "metadata": {},
   "outputs": [],
   "source": []
  },
  {
   "cell_type": "code",
   "execution_count": null,
   "id": "9cefce24-6bfa-43cd-8301-188c17bdc2af",
   "metadata": {},
   "outputs": [],
   "source": []
  },
  {
   "cell_type": "markdown",
   "id": "83419ac5-a601-4fc3-9a09-1c33afe93da7",
   "metadata": {},
   "source": [
    "### Data Cleaning"
   ]
  },
  {
   "cell_type": "code",
   "execution_count": 35,
   "id": "a63cbe70-2868-4ded-bd3b-d5b1174d566a",
   "metadata": {},
   "outputs": [],
   "source": [
    "import pandas as pd\n",
    "import numpy as np"
   ]
  },
  {
   "cell_type": "code",
   "execution_count": 37,
   "id": "ec3ed8a2-af7a-4eda-a344-4ffcc02b484a",
   "metadata": {},
   "outputs": [],
   "source": [
    "# load dataset\n",
    "file_path = \"c:\\dataset\\python\\sample_data.csv\"\n",
    "df = pd.read_csv(file_path)"
   ]
  },
  {
   "cell_type": "code",
   "execution_count": 39,
   "id": "a09e52af-0f47-47d5-9920-68d4439df2d7",
   "metadata": {},
   "outputs": [],
   "source": [
    "# Find all duplicates based on all columns\n",
    "duplicates = df[df.duplicated(keep=False)]\n",
    "# Group by all column to get the count of each duplicate row\n",
    "duplicates_counts = duplicates.groupby(list(duplicates.columns)).size().reset_index(name='count')\n",
    "# print(duplicates_counts)\n",
    "df = df.drop_duplicates()"
   ]
  },
  {
   "cell_type": "code",
   "execution_count": 41,
   "id": "4429fcb8-2d11-4fdb-b7de-4c525907e9f1",
   "metadata": {},
   "outputs": [],
   "source": [
    "# Sort by ID (ascending) & Date of Service (descending) to keep that latest row\n",
    "\n",
    "# Convert Date of Service to datetime format\n",
    "df['Date of Service'] = pd.to_datetime(df['Date of Service'])\n",
    "# sort the DataFrame by ID(ascending) & Date of Service(descending) descending order\n",
    "df = df.sort_values(by=['ID', 'Date of Service'], ascending=[True, False])"
   ]
  },
  {
   "cell_type": "code",
   "execution_count": 43,
   "id": "447d7b8f-b28a-4bf2-bf01-ca2db98eb49d",
   "metadata": {},
   "outputs": [],
   "source": [
    "# Find duplicates based on ID and Name\n",
    "duplicates_columns = df[df.duplicated(subset=['ID','Name'], keep=False)]\n",
    "# Group by the specifiied columns to get the count of each duplcate \n",
    "duplicates_counts = duplicates_columns.groupby(['ID', 'Name']).size().reset_index(name='count')\n",
    "# print(duplicates_counts)\n",
    "df = df.drop_duplicates(subset=['ID', 'Name'])"
   ]
  },
  {
   "cell_type": "code",
   "execution_count": 45,
   "id": "06934b48-e685-40f5-ba73-8090980332a0",
   "metadata": {},
   "outputs": [
    {
     "name": "stdout",
     "output_type": "stream",
     "text": [
      "        ID        Name   Age     Date of Service Diagnosis Code  Total Cost  \\\n",
      "1349  2215  John Smith  71.0 2024-09-12 19:27:27          C67.2    12932.31   \n",
      "\n",
      "     Gender            Phone                Email       Street         City  \\\n",
      "1349    NaN  +1-367-708-3519  user745@example.com  695 Main St  Los Angeles   \n",
      "\n",
      "     State  Zip Code Insurance Notes  \n",
      "1349    TX     67126       Yes   NaN  \n"
     ]
    }
   ],
   "source": [
    "# Verify  Data\n",
    "filtered_rows = df[df['ID'] == 2215]\n",
    "print(filtered_rows)"
   ]
  },
  {
   "cell_type": "code",
   "execution_count": 47,
   "id": "06f2ac0c-01c7-4e05-bed5-d4ef095dbd4c",
   "metadata": {},
   "outputs": [],
   "source": [
    "# Fill missing values for categorical data\n",
    "df[\"Gender\"].fillna(\"Unknown\", inplace=True)\n",
    "df[\"City\"].fillna(\"Unknown\", inplace=True)\n",
    "df[\"Diagnosis Code\"].fillna(\"Unknown\", inplace=True)\n",
    "df[\"Insurance\"].fillna(\"No\", inplace=True)"
   ]
  },
  {
   "cell_type": "code",
   "execution_count": 49,
   "id": "7543ca57-1846-4e54-9e9f-37eb8d8a7381",
   "metadata": {},
   "outputs": [],
   "source": [
    "# Drop a record with unrealistic or missing ages\n",
    "df = df[(df[\"Age\"] >= 0) & (df[\"Age\"] <= 120)]"
   ]
  },
  {
   "cell_type": "code",
   "execution_count": 51,
   "id": "fd927835-1b8c-436a-8817-42f5cdca4234",
   "metadata": {},
   "outputs": [
    {
     "name": "stdout",
     "output_type": "stream",
     "text": [
      "Empty DataFrame\n",
      "Columns: [ID, Name, Age, Date of Service, Diagnosis Code, Total Cost, Gender, Phone, Email, Street, City, State, Zip Code, Insurance, Notes]\n",
      "Index: []\n"
     ]
    }
   ],
   "source": [
    "# Verify date\n",
    "filtered_rows = df[df['Age'] > 120]\n",
    "print(filtered_rows)"
   ]
  },
  {
   "cell_type": "code",
   "execution_count": 53,
   "id": "f03780c4-ad3a-4b19-a1cc-cd9ff32fe436",
   "metadata": {},
   "outputs": [],
   "source": [
    "# Replace invalid or negative costs with null value\n",
    "df[\"Total Cost\"] = df[\"Total Cost\"].apply(lambda x: np.nan if x < 0 else x)"
   ]
  },
  {
   "cell_type": "code",
   "execution_count": 55,
   "id": "b43f7950-e893-447f-8bb7-d54b94039362",
   "metadata": {},
   "outputs": [
    {
     "name": "stdout",
     "output_type": "stream",
     "text": [
      "        ID              Name   Age     Date of Service Diagnosis Code  \\\n",
      "1670  4515   Morgan Williams  25.0 2023-05-10 20:58:52          D51.9   \n",
      "1306  8138        Alex Smith  92.0 2024-06-06 14:51:56          B95.8   \n",
      "633   7209      Morgan Brown  53.0 2024-01-28 23:54:29          B50.8   \n",
      "1937  5715    Casey Williams  77.0 2023-05-09 20:07:00          C43.4   \n",
      "1731  4694  Jordan Hernandez  75.0 2023-08-26 14:29:10          A43.1   \n",
      "\n",
      "      Total Cost   Gender            Phone                 Email       Street  \\\n",
      "1670        1.92   Female  +1-620-404-2187    user63@example.com  836 Main St   \n",
      "1306        4.20     Male  +1-597-177-5389  user1981@example.com  303 Main St   \n",
      "633         6.38     Male  +1-711-412-7725  user1628@example.com  585 Main St   \n",
      "1937       20.15  Unknown              NaN  user1499@example.com  902 Main St   \n",
      "1731       36.22   Female  +1-925-517-7810         invalid_email  554 Main St   \n",
      "\n",
      "             City State  Zip Code Insurance               Notes  \n",
      "1670      Unknown    TX     65712        No  Follow-up required  \n",
      "1306  Los Angeles    NY     31573        No            Check-up  \n",
      "633       Chicago    IL     22791       Yes  Follow-up required  \n",
      "1937  Los Angeles    CA     74000        No                 NaN  \n",
      "1731      Chicago    FL     92481        No                 NaN  \n"
     ]
    }
   ],
   "source": [
    "# Verify data\n",
    "df = df.sort_values(by=\"Total Cost\", ascending=True)\n",
    "print(df.head())"
   ]
  },
  {
   "cell_type": "code",
   "execution_count": 57,
   "id": "80860023-7390-48d7-b43b-5645ba38e917",
   "metadata": {},
   "outputs": [
    {
     "name": "stdout",
     "output_type": "stream",
     "text": [
      "State\n",
      "TX         314\n",
      "IL         305\n",
      "INVALID    302\n",
      "FL         301\n",
      "NY         291\n",
      "CA         291\n",
      "Name: count, dtype: int64\n"
     ]
    }
   ],
   "source": [
    "# Group by State with its counts\n",
    "df[\"State\"] = df[\"State\"].str.strip()\n",
    "state_counts = df[\"State\"].value_counts()\n",
    "print(state_counts)"
   ]
  },
  {
   "cell_type": "code",
   "execution_count": 59,
   "id": "8d1d34a0-697d-4f88-b6ff-4e45b9799e22",
   "metadata": {},
   "outputs": [],
   "source": [
    "# If state not in valid_states, insert null value\n",
    "valid_states = [\"IL\", \"CA\", \"TX\", \"NY\", \"FL\"]\n",
    "df[\"State\"] = df[\"State\"].apply(lambda x: x if x in valid_states else np.nan)"
   ]
  },
  {
   "cell_type": "code",
   "execution_count": 61,
   "id": "2f153214-b1ff-451f-bd2f-bd0f3ecd27c4",
   "metadata": {},
   "outputs": [],
   "source": [
    "# Validate email address contains \"@\", \".\" in address\n",
    "df[\"Email\"] = df[\"Email\"].apply(lambda x: x if \"@\" in x and \".\" in x.split(\"@\")[-1] else np.nan)"
   ]
  },
  {
   "cell_type": "code",
   "execution_count": 63,
   "id": "f9bddf1e-ca90-41b6-b40d-2f2514c4dbe2",
   "metadata": {},
   "outputs": [],
   "source": [
    "# Validare phone number NOT NULL and start with +1- to capture US Phone Number\n",
    "df[\"Phone\"] = df[\"Phone\"].apply(lambda x: x if pd.notnull(x) and x.startswith(\"+1-\") else np.nan)"
   ]
  },
  {
   "cell_type": "code",
   "execution_count": 65,
   "id": "4082e19e-0b47-43fe-a789-a6f5ba5418f1",
   "metadata": {},
   "outputs": [],
   "source": [
    "# Fill missing Total Cost with the median value\n",
    "df[\"Total Cost\"].fillna(df[\"Total Cost\"].median(), inplace=True)"
   ]
  },
  {
   "cell_type": "code",
   "execution_count": 67,
   "id": "f98f0a20-6196-4d4a-b0fc-bd0e81967c7f",
   "metadata": {},
   "outputs": [],
   "source": [
    "# Stripe whitespace from notes\n",
    "df[\"Notes\"] = df[\"Notes\"].str.strip()"
   ]
  },
  {
   "cell_type": "code",
   "execution_count": 69,
   "id": "b719ad58-2904-47ba-8b55-9b1f569bd400",
   "metadata": {},
   "outputs": [
    {
     "name": "stdout",
     "output_type": "stream",
     "text": [
      "Cleaned dataset saved a c:\\dataset\\python\\cleaned_data.csv\n"
     ]
    }
   ],
   "source": [
    "# Save cleaned dataset\n",
    "cleaned_file_path = \"c:\\dataset\\python\\cleaned_data.csv\"\n",
    "df.to_csv(cleaned_file_path, index=False)\n",
    "print(f\"Cleaned dataset saved a {cleaned_file_path}\")"
   ]
  },
  {
   "cell_type": "code",
   "execution_count": null,
   "id": "826d0a93-fc46-49da-87eb-149ef5129e7d",
   "metadata": {},
   "outputs": [],
   "source": []
  }
 ],
 "metadata": {
  "kernelspec": {
   "display_name": "Python 3 (ipykernel)",
   "language": "python",
   "name": "python3"
  },
  "language_info": {
   "codemirror_mode": {
    "name": "ipython",
    "version": 3
   },
   "file_extension": ".py",
   "mimetype": "text/x-python",
   "name": "python",
   "nbconvert_exporter": "python",
   "pygments_lexer": "ipython3",
   "version": "3.11.7"
  }
 },
 "nbformat": 4,
 "nbformat_minor": 5
}
