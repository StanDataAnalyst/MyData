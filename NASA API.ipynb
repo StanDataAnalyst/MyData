{
 "cells": [
  {
   "cell_type": "markdown",
   "id": "66fcde58-e88c-44e6-9160-54e9d54b176a",
   "metadata": {},
   "source": [
    "## NASA API"
   ]
  },
  {
   "cell_type": "code",
   "execution_count": null,
   "id": "5b94d827-db5b-4dd6-b7bb-bf2d541732e0",
   "metadata": {},
   "outputs": [],
   "source": [
    "# pip install requests"
   ]
  },
  {
   "cell_type": "code",
   "execution_count": 26,
   "id": "a94d2660-9ad4-4f88-80d5-4120a17bdad7",
   "metadata": {},
   "outputs": [],
   "source": [
    "import requests\n",
    "import pandas as pd"
   ]
  },
  {
   "cell_type": "code",
   "execution_count": 28,
   "id": "32e87efd-9722-420b-b857-884696ad2669",
   "metadata": {},
   "outputs": [],
   "source": [
    "# Define the API endpoint and your API key\n",
    "api_key = \"DEMO_KEY"  # Replace this with your actual API key\n",
    "url = f\"https://api.nasa.gov/planetary/apod?api_key={api_key}\""
   ]
  },
  {
   "cell_type": "code",
   "execution_count": 30,
   "id": "00082410-40f9-42b7-b82b-b138c1d62773",
   "metadata": {},
   "outputs": [],
   "source": [
    "# Make the API request\n",
    "response = requests.get(url)"
   ]
  },
  {
   "cell_type": "code",
   "execution_count": 32,
   "id": "8aa59604-a294-4c92-8e1b-c775514fa562",
   "metadata": {},
   "outputs": [
    {
     "name": "stdout",
     "output_type": "stream",
     "text": [
      "Astronomy Picture of the Day:\n",
      "Title: The Medusa Nebula\n",
      "Date: 2024-11-22\n",
      "Explanation: Braided and serpentine filaments of glowing gas suggest this nebula's popular name, The Medusa Nebula. Also known as Abell 21, this Medusa is an old planetary nebula some 1,500 light-years away in the constellation Gemini. Like its mythological namesake, the nebula is associated with a dramatic transformation. The planetary nebula phase represents a final stage in the evolution of low mass stars like the sun as they transform themselves from red giants to hot white dwarf stars and in the process shrug off their outer layers. Ultraviolet radiation from the hot star powers the nebular glow. The Medusa's transforming star is the faint one near the center of the overall bright crescent shape. In this deep telescopic view, fainter filaments clearly extend below and to the left. The Medusa Nebula is estimated to be over 4 light-years across.\n",
      "URL: https://apod.nasa.gov/apod/image/2411/MEDUSA_NEBULA_FINAL_BRS_SIGNED1024.jpg\n"
     ]
    }
   ],
   "source": [
    "# Check if the request was successful\n",
    "if response.status_code == 200:\n",
    "    # Parse the JSON response\n",
    "    data = response.json()\n",
    "    print(\"Astronomy Picture of the Day:\")\n",
    "    print(f\"Title: {data['title']}\")\n",
    "    print(f\"Date: {data['date']}\")\n",
    "    print(f\"Explanation: {data['explanation']}\")\n",
    "    print(f\"URL: {data['url']}\")\n",
    "else:\n",
    "    print(f\"Failed to retrieve data: {response.status_code}\")"
   ]
  },
  {
   "cell_type": "code",
   "execution_count": null,
   "id": "35fa4e89-4293-4447-aab1-788c17556f7a",
   "metadata": {},
   "outputs": [],
   "source": []
  },
  {
   "cell_type": "code",
   "execution_count": null,
   "id": "38a08c05-c241-4930-b38e-252ac74cf706",
   "metadata": {},
   "outputs": [],
   "source": []
  },
  {
   "cell_type": "code",
   "execution_count": null,
   "id": "506ae5bb-ca19-4064-baba-dce4e5897fcd",
   "metadata": {},
   "outputs": [],
   "source": []
  },
  {
   "cell_type": "code",
   "execution_count": null,
   "id": "8526bb2c-c6b1-4ef4-832d-a1d114e8893a",
   "metadata": {},
   "outputs": [],
   "source": []
  },
  {
   "cell_type": "code",
   "execution_count": null,
   "id": "74fb2d7f-50a9-46f7-af18-4dec8fd8d8cf",
   "metadata": {},
   "outputs": [],
   "source": []
  }
 ],
 "metadata": {
  "kernelspec": {
   "display_name": "Python 3 (ipykernel)",
   "language": "python",
   "name": "python3"
  },
  "language_info": {
   "codemirror_mode": {
    "name": "ipython",
    "version": 3
   },
   "file_extension": ".py",
   "mimetype": "text/x-python",
   "name": "python",
   "nbconvert_exporter": "python",
   "pygments_lexer": "ipython3",
   "version": "3.11.7"
  }
 },
 "nbformat": 4,
 "nbformat_minor": 5
}
